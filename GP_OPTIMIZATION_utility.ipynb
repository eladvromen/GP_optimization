{
 "cells": [
  {
   "cell_type": "code",
   "execution_count": 16,
   "metadata": {},
   "outputs": [],
   "source": [
    "import pandas as pd\n",
    "import numpy as np\n",
    "import matplotlib.pyplot as plt\n",
    "import time\n",
    "from GPyOpt.methods import BayesianOptimization\n",
    "import json\n",
    "EXPERT_PATH = ['..\\\\research\\data_expert_demo.h5', \"..\\\\research\\data_expert_demo_17_1.h5\",\"..\\\\research\\data_expert_demo_3.h5\",\"..\\\\research\\data_expert_demo_4.h5\"]"
   ]
  },
  {
   "cell_type": "code",
   "execution_count": 17,
   "metadata": {},
   "outputs": [
    {
     "data": {
      "text/plain": [
       "pandas.core.frame.DataFrame"
      ]
     },
     "execution_count": 17,
     "metadata": {},
     "output_type": "execute_result"
    }
   ],
   "source": [
    "\n",
    "\n",
    "combined_df = pd.DataFrame()  # Create an empty DataFrame to store the combined data\n",
    "\n",
    "for path in EXPERT_PATH:\n",
    "    try:\n",
    "        data = pd.read_hdf(path)\n",
    "        combined_df = pd.concat([combined_df, data])  # Concatenate the current file's data to the combined DataFrame\n",
    "    except FileNotFoundError:\n",
    "        print('File {} not found'.format(path))\n",
    "\n",
    "\n",
    "expert_data =combined_df\n",
    "type(expert_data)"
   ]
  },
  {
   "cell_type": "code",
   "execution_count": 18,
   "metadata": {},
   "outputs": [
    {
     "data": {
      "text/plain": [
       "Index(['midi_filename', 'username', 'practice_mode', 'bpm',\n",
       "       'error_before_left_timing', 'error_before_right_timing',\n",
       "       'error_before_left_pitch', 'error_before_right_pitch',\n",
       "       'error_after_left_timing', 'error_after_right_timing',\n",
       "       'error_after_left_pitch', 'error_after_right_pitch'],\n",
       "      dtype='object')"
      ]
     },
     "execution_count": 18,
     "metadata": {},
     "output_type": "execute_result"
    }
   ],
   "source": [
    "expert_data.columns"
   ]
  },
  {
   "cell_type": "code",
   "execution_count": 19,
   "metadata": {},
   "outputs": [],
   "source": [
    "import enum\n",
    "import random\n",
    "import numpy as np\n",
    "\n",
    "import GPy\n",
    "import GPyOpt\n",
    "from GPyOpt.methods import BayesianOptimization\n",
    "\n",
    "\n",
    "class PracticeMode(enum.Enum):\n",
    "    \"\"\"\n",
    "    All possible practice modes\n",
    "    \"\"\"\n",
    "    IMP_PITCH = 0\n",
    "    IMP_TIMING = 1\n",
    "    LEFT = 2\n",
    "    RIGHT = 3\n",
    "\n",
    "\n",
    "# interval of possible bpm_values\n",
    "BPM_BOUNDS = [50, 200]\n",
    "class GaussianProcess:\n",
    "    def __init__(self, bpm_norm_fac=100):\n",
    "        self.data_X = None\n",
    "        self.data_X_old_shape = None\n",
    "\n",
    "        self.data_Y = None\n",
    "\n",
    "        self.bpm_norm_fac = bpm_norm_fac\n",
    "\n",
    "        self.domain = [\n",
    "            {'name': 'practice_mode', 'type': 'categorical', 'domain': (0, 1, 2, 3)},\n",
    "            {'name': 'bpm', 'type': 'continuous', 'domain':\n",
    "                (self._norm_bpm(BPM_BOUNDS[0]), self._norm_bpm(BPM_BOUNDS[1]))},\n",
    "            {'name': 'error_pitch_left', 'type': 'continuous', 'domain': (0, 1)},\n",
    "            {'name': 'error_pitch_right', 'type': 'continuous', 'domain': (0, 1)},\n",
    "            {'name': 'error_timing_left', 'type': 'continuous', 'domain': (0, 1)},\n",
    "            {'name': 'error_timing_right', 'type': 'continuous', 'domain': (0, 1)}\n",
    "        ]\n",
    "\n",
    "        self.space = GPyOpt.core.task.space.Design_space(self.domain)\n",
    "\n",
    "    def _norm_bpm(self, v: float) -> float:\n",
    "        return v / self.bpm_norm_fac\n",
    "\n",
    "    def _params2domain(self, error, bpm: int, practice_mode: PracticeMode):\n",
    "        domain_x = [\n",
    "            practice_mode.value,\n",
    "            self._norm_bpm(bpm),\n",
    "            error['pitch_left'],\n",
    "            error['pitch_right'],\n",
    "            error['timing_left'],\n",
    "            error['timing_right']\n",
    "        ]\n",
    "\n",
    "        return np.array([domain_x])\n",
    "\n",
    "    def _domain2space(self, domain_x):\n",
    "        # Converts the domain variables into the GPs input space\n",
    "        # does one-hot encoding\n",
    "        space_rep = self.space.unzip_inputs(domain_x)\n",
    "        return space_rep\n",
    "\n",
    "    def _get_bayes_opt(self) -> BayesianOptimization:\n",
    "        return self.bayes_opt\n",
    "\n",
    "    def update_model(self):\n",
    "        \"\"\"\n",
    "        If the Gaussian Process' training data has changed, \"trains\" the GP on the complete data set.\n",
    "        \"\"\"\n",
    "        if self.data_X is None or self.data_X.shape == self.data_X_old_shape:\n",
    "            return\n",
    "\n",
    "        self.data_X_old_shape = self.data_X.shape\n",
    "\n",
    "        kernel = GPy.kern.RBF(input_dim=self.space.model_dimensionality,\n",
    "                              variance=0.01,\n",
    "                              lengthscale=1)\n",
    "\n",
    "        self.bayes_opt = GPyOpt.methods.BayesianOptimization(\n",
    "            f=None, domain=self.domain, X=self.data_X, Y=self.data_Y,\n",
    "            maximize=True, normalize_Y=False,\n",
    "            kernel=kernel,\n",
    "        )\n",
    "\n",
    "        self.bayes_opt.model.max_iters = 0\n",
    "        self.bayes_opt._update_model()\n",
    "\n",
    "        self.bayes_opt.model.max_iters = 1000\n",
    "        self.bayes_opt._update_model()\n",
    "\n",
    "    def get_estimate(self, error, bpm, practice_mode: PracticeMode) -> float:\n",
    "        \"\"\"\n",
    "        Estimates the utility value for a given practice mode\n",
    "        @param error: error values\n",
    "        @param bpm: bpm of the music piece\n",
    "        @param practice_mode: the practice mode for which the utility value should be estimated\n",
    "        @return: gaussian process' estimate of the utility value\n",
    "        \"\"\"\n",
    "        if not hasattr(self, \"bayes_opt\"):\n",
    "            # if there is no model yet, e.g. in the first iteration return random utility\n",
    "            return random.random()\n",
    "\n",
    "        bayes_opt = self._get_bayes_opt()\n",
    "\n",
    "        x = self._params2domain(error, bpm, practice_mode)\n",
    "        x = self._domain2space(x)\n",
    "\n",
    "        mean, var = bayes_opt.model.predict(x)\n",
    "\n",
    "        return mean[0]\n",
    "\n",
    "    def get_best_practice_mode(self, error, bpm, epsilon=0):\n",
    "        \"\"\"\n",
    "        computes the gaussian process' estimate of the best practice mode\n",
    "        currently utilizes epsilon-greedy exploration\n",
    "        @param error: error values\n",
    "        @param bpm: bpm of the music piece\n",
    "        @param (optional) epsilon: the probability of making a random decision. set to 0 for no exploration.\n",
    "        @return: chosen for given input parameters PracticeMode\n",
    "        \"\"\"\n",
    "        left = False\n",
    "        right = True\n",
    "        if left and right:\n",
    "            all_practice_modes = list(PracticeMode)\n",
    "        else:\n",
    "            all_practice_modes = [PracticeMode.IMP_PITCH, PracticeMode.IMP_TIMING]\n",
    "        # epsilon-greedy\n",
    "        if random.random() > epsilon:\n",
    "            max_i = np.argmax([self.get_estimate(error, bpm, pm)\n",
    "                               for pm in all_practice_modes])\n",
    "            return all_practice_modes[max_i]\n",
    "        else:\n",
    "            return np.random.choice(all_practice_modes)\n",
    "\n",
    "    def add_data_point(self, error, bpm: int, practice_mode: PracticeMode,\n",
    "                       utility_measurement: float):\n",
    "        \"\"\"\n",
    "        Adds a new datapoint to the dataset of the gaussian process.\n",
    "        Does not update the Gaussian Process for the new training data (see: update_model)\n",
    "        @param error: error values\n",
    "        @param bpm: bpm of the music piece\n",
    "        @param practice_mode: practice mode in which the performer practiced\n",
    "        @param utility_measurement: observed utility value for the given parameters\n",
    "        \"\"\"\n",
    "\n",
    "        new_x = self._params2domain(error, bpm, practice_mode)\n",
    "        new_y = [utility_measurement]\n",
    "\n",
    "        if self.data_X is None:\n",
    "            self.data_X = new_x\n",
    "            self.data_Y = np.array([new_y])\n",
    "        else:\n",
    "            self.data_X = np.vstack((self.data_X, new_x[0]))\n",
    "            self.data_Y = np.vstack((self.data_Y, new_y[0]))\n",
    "            \n",
    "    def update_model_with_kernel(self, kernel):\n",
    "    #it seems possible to enter the kernel to the functionality...\n",
    "\n",
    "        ## only calculate new model if data changed\n",
    "        if self.data_X is None or self.data_X.shape == self.data_X_old_shape:\n",
    "            return\n",
    "        \n",
    "        \n",
    "        self.data_X_old_shape = self.data_X.shape\n",
    "        \n",
    "        \n",
    "        \n",
    "        self.bayes_opt = GPyOpt.methods.BayesianOptimization(\n",
    "            f = None, domain = self.domain, X = self.data_X, Y = self.data_Y,\n",
    "            maximize=True,\n",
    "            kernel=kernel,\n",
    "        )\n",
    "        \n",
    "        self.bayes_opt.model.max_iters = 0\n",
    "        self.bayes_opt.update_model_with_kernel(kernel) \n",
    "        \n",
    "        self.bayes_opt.model.model.kern.variance.constrain_bounded(0.2,1,\n",
    "                                                                   warning=False)\n",
    "        self.bayes_opt.model.model.kern.lengthscale.constrain_bounded(1, 2,\n",
    "                                                                   warning=False)\n",
    "        \n",
    "        self.bayes_opt.model.max_iters = 1000\n",
    "        self.bayes_opt.update_model_with_kernel(kernel) \n",
    "        \n",
    "   \n",
    "    \n",
    "def compare_to_best_policy(policy_argmax, best_argmax, best_error_diff=1):\n",
    "        num_diff_cases = np.sum(np.abs(policy_argmax-best_argmax))\n",
    "    \n",
    "        abs_diff = num_diff_cases / policy_argmax.shape[0]\n",
    "\n",
    "    \n",
    "        return abs_diff"
   ]
  },
  {
   "cell_type": "code",
   "execution_count": 20,
   "metadata": {},
   "outputs": [],
   "source": [
    "def error_diff_to_utility_for_opt(error_pre_pitch, error_post_pitch, error_pre_timing, error_post_timing, a,MEAN_UTILITY):\n",
    "    diff_timing = error_post_timing - error_pre_timing\n",
    "    diff_pitch  = error_post_pitch  - error_pre_pitch\n",
    "    return - (diff_timing*a + diff_pitch*(1-a)) - MEAN_UTILITY"
   ]
  },
  {
   "cell_type": "code",
   "execution_count": 21,
   "metadata": {},
   "outputs": [],
   "source": [
    "def calc_ground_truth_utility(recorded_points,a,mean_utility):\n",
    "    #calc utility for all expert data\n",
    "    recorded_points[\"utility\"] = recorded_points.apply(lambda row: error_diff_to_utility_for_opt(row[\"error_before_right_pitch\"],\n",
    "                                                                                row[\"error_after_right_pitch\"],\n",
    "                                                                                row[\"error_before_right_timing\"],\n",
    "                                                                                row[\"error_after_right_timing\"],a, mean_utility), axis=1)\n",
    "    return recorded_points  "
   ]
  },
  {
   "cell_type": "code",
   "execution_count": 22,
   "metadata": {},
   "outputs": [],
   "source": [
    "def policy_diff_for_single_gp(gauss_model, recorded_points,a,mean_utility):\n",
    "    #calculate the policy diff for a single gp, given the recorded points and the expert decision\n",
    "    policy_diff = []\n",
    "    practice_mode_map = {'IMP_PITCH': PracticeMode.IMP_PITCH, 'IMP_TIMING': PracticeMode.IMP_TIMING}\n",
    "    #for all recorded data points\n",
    "    recorded_points = calc_ground_truth_utility(recorded_points, a, mean_utility)\n",
    "    for i, point in recorded_points.iterrows():\n",
    "\n",
    "        #prepare the data in the right format for adding to the gp\n",
    "\n",
    "        point_data = point.drop(\"utility\")\n",
    "        expert_opt_policy = point[\"utility\"]\n",
    "        bpm=point[\"bpm\"]\n",
    "        given_practice_mode = point[\"practice_mode\"]\n",
    "        my_practice_mode = practice_mode_map[given_practice_mode]\n",
    "       \n",
    "        errors = {\n",
    "    'pitch_left': point_data['error_before_left_pitch'],\n",
    "    'pitch_right': point_data['error_before_right_pitch'],\n",
    "    'timing_left': point_data['error_before_left_timing'],\n",
    "    'timing_right': point_data['error_before_right_timing']}\n",
    "\n",
    "        #add the data point to the gp\n",
    " \n",
    "        gauss_model.add_data_point(errors ,bpm, my_practice_mode, expert_opt_policy)\n",
    "        gauss_model.update_model()\n",
    "        \n",
    "        #calculate the policy diff for the current gp, for the current point\n",
    "        \n",
    "        curr_diff = compare_to_best_policy(gauss_model.get_estimate(errors, bpm, my_practice_mode),expert_opt_policy)\n",
    "        #print(curr_diff)\n",
    "        policy_diff.append(curr_diff)\n",
    "    #print(mean(policy_diff))\n",
    "    return policy_diff"
   ]
  },
  {
   "cell_type": "code",
   "execution_count": 23,
   "metadata": {},
   "outputs": [],
   "source": [
    "def update_model_with_kernel(self, kernel):\n",
    "    #a version for updating the model with a given kernel\n",
    "\n",
    "        ## only calculate new model if data changed\n",
    "        if self.data_X is None or self.data_X.shape == self.data_X_old_shape:\n",
    "            return\n",
    "        \n",
    "        \n",
    "        self.data_X_old_shape = self.data_X.shape\n",
    "        \n",
    "        \n",
    "        \n",
    "        self.bayes_opt = GPyOpt.methods.BayesianOptimization(\n",
    "            f = None, domain = self.domain, X = self.data_X, Y = self.data_Y,\n",
    "            maximize=True,\n",
    "            kernel=kernel,\n",
    "        )\n",
    "        \n",
    "        self.bayes_opt.model.max_iters = 0\n",
    "        self.bayes_opt.update_model_with_kernel(kernel) \n",
    "        \n",
    "        self.bayes_opt.model.model.kern.variance.constrain_bounded(0.2,1,\n",
    "                                                                   warning=False)\n",
    "        self.bayes_opt.model.model.kern.lengthscale.constrain_bounded(1, 2,\n",
    "                                                                   warning=False)\n",
    "        \n",
    "        self.bayes_opt.model.max_iters = 1000\n",
    "        self.bayes_opt.update_model_with_kernel(kernel) \n",
    "        pass"
   ]
  },
  {
   "cell_type": "code",
   "execution_count": 24,
   "metadata": {},
   "outputs": [],
   "source": [
    "def optimal_gp(gauss_models, policy_diff):\n",
    "    #we choose the gp with the lowest mean policy diff\n",
    "    best_model_index = np.argmin([np.mean(pd) for pd in policy_diff])\n",
    "    best_model = gauss_models[best_model_index]\n",
    "    return best_model\n",
    "\n"
   ]
  },
  {
   "cell_type": "code",
   "execution_count": 25,
   "metadata": {},
   "outputs": [],
   "source": [
    "from statistics import mean \n",
    "def objective_function(x, kernel_type):\n",
    "    #objective function for the optimization of the hyperparameters, getting the mean policy diff for the current hyperparameters\n",
    "    if x.ndim > 1:\n",
    "        x = x.flatten()\n",
    "    # x is a list of hyperparameters\n",
    "    if kernel_type == 'RatQuad':\n",
    "        variance, lengthscale, alpha, a, mean_utility = x\n",
    "    else:\n",
    "        variance, lengthscale, a, mean_utility = x\n",
    "    \n",
    "    # Initialize a GP model with the given hyperparameters and kernel type\n",
    "    gp = GaussianProcess()\n",
    "    if kernel_type == 'Matern52':\n",
    "        kernel = GPy.kern.Matern52(input_dim=gp.space.model_dimensionality, \n",
    "                                   variance=variance, \n",
    "                                   lengthscale=lengthscale)\n",
    "    elif kernel_type == 'linear':\n",
    "        kernel = GPy.kern.Linear(input_dim=gp.space.model_dimensionality,\n",
    "                                 variances=variance)\n",
    "    elif kernel_type == 'RatQuad':\n",
    "        kernel = GPy.kern.RatQuad(input_dim=gp.space.model_dimensionality,\n",
    "                                    variance=variance,\n",
    "                                    lengthscale=lengthscale,\n",
    "                                    power=alpha)\n",
    "    else:\n",
    "        raise ValueError(\"Invalid kernel type\")\n",
    "\n",
    "    gp.update_model_with_kernel(kernel)\n",
    "\n",
    "    # Calculate the utility using the expert data and the GP model\n",
    "    recorded_points = expert_data[[ 'error_before_left_timing', 'error_before_right_timing',\n",
    "       'error_before_left_pitch', 'error_before_right_pitch',\n",
    "       'error_after_left_timing', 'error_after_right_timing',\n",
    "       'error_after_left_pitch', 'error_after_right_pitch', \"practice_mode\", \"bpm\"]]\n",
    "    policy_diff = policy_diff_for_single_gp(gp, recorded_points,a,mean_utility)\n",
    "    return  mean(policy_diff)\n",
    "\n",
    "\n",
    "    \n"
   ]
  },
  {
   "cell_type": "code",
   "execution_count": 26,
   "metadata": {},
   "outputs": [
    {
     "data": {
      "image/png": "[encoded data removed]",
      "text/plain": [
       "<Figure size 720x360 with 2 Axes>"
      ]
     },
     "metadata": {
      "needs_background": "light"
     },
     "output_type": "display_data"
    },
    {
     "data": {
      "image/png": "[encoded data removed]",
      "text/plain": [
       "<Figure size 720x360 with 2 Axes>"
      ]
     },
     "metadata": {
      "needs_background": "light"
     },
     "output_type": "display_data"
    },
    {
     "data": {
      "image/png": "[encoded data removed]",
      "text/plain": [
       "<Figure size 720x360 with 2 Axes>"
      ]
     },
     "metadata": {
      "needs_background": "light"
     },
     "output_type": "display_data"
    }
   ],
   "source": [
    "\n",
    "#initialize the hyper parameters bound for different kernels\n",
    "kernel_types = ['Matern52', 'linear', 'RatQuad']\n",
    "#kernel_types = ['Matern52']\n",
    "rqk_bounds = [{'name': 'variance', 'type': 'continuous', 'domain': (0.01, 10)},\n",
    "          {'name': 'lengthscale', 'type': 'continuous', 'domain': (0.1, 10)},\n",
    "          {'name': 'alpha', 'type': 'continuous', 'domain': (0.1, 10)},\n",
    "          {'name': 'a', 'type': 'continuous', 'domain': (0.3,0.7)},\n",
    "          {'name': 'mean_utility', 'type': 'continuous', 'domain': (0, 1)}]\n",
    "\n",
    "bounds = [{'name': 'variance', 'type': 'continuous', 'domain': (0.01, 10)},\n",
    "          {'name': 'lengthscale', 'type': 'continuous', 'domain': (0.1, 10)},\n",
    "          {'name': 'a', 'type': 'continuous', 'domain': (0.3, 0.7)},\n",
    "          {'name': 'mean_utility', 'type': 'continuous', 'domain': (0.01, 1)}]\n",
    "\n",
    "#bounds = [{'name': 'variance', 'type': 'continuous', 'domain': (0.5, 0.7)},\n",
    "          #{'name': 'lengthscale', 'type': 'continuous', 'domain': (0.5, 0.7)},\n",
    "          #{'name': 'a', 'type': 'continuous', 'domain': (0.5, 0.7)},\n",
    "        #  {'name': 'mean_utility', 'type': 'continuous', 'domain': (0.5, 0.7)}]\n",
    "\n",
    "best_gp_dict ={}\n",
    "best_gp_dict_policy = {}\n",
    "#for each kernel\n",
    "for kernel_type in kernel_types:\n",
    "#do baysian optimization\n",
    "    \n",
    "    if kernel_type == 'RatQuad':\n",
    "        bounds_ = rqk_bounds\n",
    "    else:\n",
    "        bounds_ = bounds\n",
    "    obj_func = lambda x: objective_function(x, kernel_type)\n",
    "    bo = BayesianOptimization(f=obj_func,\n",
    "                              domain=bounds_,\n",
    "                              acquisition_type='EI',\n",
    "                              acquisition_jitter=0.05,\n",
    "                              num_cores=1)\n",
    "    # Run the optimization\n",
    "    bo.run_optimization(max_iter=10)\n",
    "    # Get the best set of hyperparameters\n",
    "    bo.plot_convergence()\n",
    "\n",
    "    best_hyperparameters = bo.x_opt\n",
    "    best_mean_policy_diff = bo.fx_opt\n",
    "    best_gp_dict[kernel_type] = best_hyperparameters\n",
    "    best_gp_dict_policy[kernel_type] = best_mean_policy_diff"
   ]
  },
  {
   "cell_type": "code",
   "execution_count": 27,
   "metadata": {},
   "outputs": [
    {
     "data": {
      "text/plain": [
       "{'Matern52': array([5.08942964, 2.8095464 , 0.7       , 0.04113724]),\n",
       " 'linear': array([7.92769988, 2.0447717 , 0.5709087 , 0.62205863]),\n",
       " 'RatQuad': array([0.01, 0.1 , 0.1 , 0.7 , 0.  ])}"
      ]
     },
     "execution_count": 27,
     "metadata": {},
     "output_type": "execute_result"
    }
   ],
   "source": [
    "best_gp_dict"
   ]
  },
  {
   "cell_type": "code",
   "execution_count": 28,
   "metadata": {},
   "outputs": [
    {
     "data": {
      "text/plain": [
       "{'Matern52': 0.05771076143338213,\n",
       " 'linear': 0.06814846798791784,\n",
       " 'RatQuad': 0.05877368670882635}"
      ]
     },
     "execution_count": 28,
     "metadata": {},
     "output_type": "execute_result"
    }
   ],
   "source": [
    "best_gp_dict_policy"
   ]
  },
  {
   "cell_type": "code",
   "execution_count": 38,
   "metadata": {},
   "outputs": [
    {
     "data": {
      "text/plain": [
       "{'name': 'Matern52',\n",
       " 'best parameters': {'variance': 5.089429639257508,\n",
       "  'lengthscale': 2.8095463984389255,\n",
       "  'a': 0.7,\n",
       "  'mean_utility': 0.041137238696461985},\n",
       " 'policy-diff': 0.05771076143338213}"
      ]
     },
     "execution_count": 38,
     "metadata": {},
     "output_type": "execute_result"
    }
   ],
   "source": [
    "best_kernel_type = min(best_gp_dict_policy, key=best_gp_dict_policy.get) \n",
    "best_param = best_gp_dict[best_kernel_type]\n",
    "#get a dict of the parameters for the best kernel with its name as the key, and also the best mean policy diff and the kernel type\n",
    "best_param_dict = dict(zip([b['name'] for b in bounds], best_param))\n",
    "best_kernel = {\"name\": best_kernel_type, \"best parameters\": best_param_dict, \"policy-diff\": best_gp_dict_policy[best_kernel_type]}\n",
    "best_kernel"
   ]
  },
  {
   "cell_type": "code",
   "execution_count": 39,
   "metadata": {},
   "outputs": [],
   "source": [
    "file_path = 'best_kernel.json'\n",
    "\n",
    "# Open the file in write mode and save the dictionary as JSON\n",
    "with open(file_path, 'w') as json_file:\n",
    "    json.dump(best_kernel, json_file)"
   ]
  },
  {
   "attachments": {},
   "cell_type": "markdown",
   "metadata": {},
   "source": [
    "ADD OPTIMIZATION FOR UTILITY CALCULATION PARAMETERS\n",
    "am not calculating left hand error(there is none in the expert data)"
   ]
  }
 ],
 "metadata": {
  "kernelspec": {
   "display_name": "Python 3",
   "language": "python",
   "name": "python3"
  },
  "language_info": {
   "codemirror_mode": {
    "name": "ipython",
    "version": 3
   },
   "file_extension": ".py",
   "mimetype": "text/x-python",
   "name": "python",
   "nbconvert_exporter": "python",
   "pygments_lexer": "ipython3",
   "version": "3.9.13"
  },
  "orig_nbformat": 4,
  "vscode": {
   "interpreter": {
    "hash": "c3d1baa44583d8ec46d9c51771f1212390b5783b843e583a1bb6c33531f0efe2"
   }
  }
 },
 "nbformat": 4,
 "nbformat_minor": 2
}
