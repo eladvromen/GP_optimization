{
 "cells": [
  {
   "attachments": {},
   "cell_type": "markdown",
   "metadata": {},
   "source": [
    "##extra functionality for optimization"
   ]
  },
  {
   "cell_type": "code",
   "execution_count": null,
   "metadata": {
    "vscode": {
     "languageId": "plaintext"
    }
   },
   "outputs": [],
   "source": [
    "#add notr range manualy \n",
    "def add_note_range_column(songs_dict, expert_data):\n",
    "    note_ranges = [songs_dict.get(filename) for filename in expert_data['midi_filename']]\n",
    "    expert_data['note_range'] = note_ranges\n",
    "    pass\n",
    "import json\n",
    "#for adding note range\n",
    "# Load dictionary from JSON file\n",
    "with open('song_dict.json', 'r') as f:\n",
    "    song_dict = json.load(f)\n",
    "add_note_range_column(song_dict, expert_data)"
   ]
  },
  {
   "cell_type": "code",
   "execution_count": null,
   "metadata": {
    "vscode": {
     "languageId": "plaintext"
    }
   },
   "outputs": [],
   "source": [
    "def loss(sum_diff, length):\n",
    "        #start with avg diff, need to define loss\n",
    "        return sum_diff / length"
   ]
  },
  {
   "cell_type": "code",
   "execution_count": null,
   "metadata": {
    "vscode": {
     "languageId": "plaintext"
    }
   },
   "outputs": [],
   "source": [
    "def diff_function(prediction, expert):\n",
    "    #get two vectors containing orederd predictions and expert data practice modes\n",
    "    diff = 0\n",
    "    for i, pred in enumerate(prediction):\n",
    "        if pred != expert[i]:\n",
    "            diff+=1\n",
    "    return loss(diff, len(prediction))\n",
    "    pass  "
   ]
  },
  {
   "cell_type": "code",
   "execution_count": null,
   "metadata": {
    "vscode": {
     "languageId": "plaintext"
    }
   },
   "outputs": [],
   "source": [
    "def policy_diff(gauss_model, recorded_points, expert_practice_mode):\n",
    "         #calculate difference between the prediction of the gauss model and the expert advice.\n",
    "      r_p =  recorded_points[\"error_before_right_timing\", \"error_before_right_pitch\"]\n",
    "      #a question- the diff should be calculated binaricly(by prediction) or by the utility diffs?\n",
    "      policy_diff =diff_function(gauss_model.get_best_practice_mode(r_p),  expert_practice_mode)\n",
    "      return policy_diff\n",
    "      pass\n"
   ]
  },
  {
   "cell_type": "code",
   "execution_count": null,
   "metadata": {
    "vscode": {
     "languageId": "plaintext"
    }
   },
   "outputs": [],
   "source": [
    "def policy_diff_utility(gauss_model, point, expert_opt_policy):\n",
    "    \n",
    "      c=0#what is c?\n",
    "      policy_diff= compare_to_best_policy(gauss_model.get_policy(c),point[\"utility\"])\n",
    "      return policy_diff"
   ]
  },
  {
   "cell_type": "code",
   "execution_count": null,
   "metadata": {
    "vscode": {
     "languageId": "plaintext"
    }
   },
   "outputs": [],
   "source": [
    "def initialize_gp_generelize():\n",
    "    #generelized to any number of kernels, not sure if possible\n",
    "    gp_models = []\n",
    "    kernel_hyper_params = [{'lengthscale': 1.0}, {'lengthscale': 0.5}, {'lengthscale': 2.0}]\n",
    "    kernels = [GPy.kern.Matern52, GPy.kern.Matern32, GPy.kern.RBF]\n",
    "\n",
    "    for kernel, hyper_params in zip(kernels, kernel_hyper_params):\n",
    "        for param in hyper_params:\n",
    "            # initialize a new kernel with the given hyperparameters\n",
    "            kernel_instance = kernel(input_dim=1, **param)\n",
    "\n",
    "            # initialize a new Gaussian process model with the current kernel\n",
    "            gp = GaussianProcess(kernel=kernel_instance)\n",
    "\n",
    "            gp_models.append(gp)\n",
    "\n",
    "    return gp_models\n",
    "pass"
   ]
  }
 ],
 "metadata": {
  "language_info": {
   "name": "python"
  },
  "orig_nbformat": 4
 },
 "nbformat": 4,
 "nbformat_minor": 2
}
