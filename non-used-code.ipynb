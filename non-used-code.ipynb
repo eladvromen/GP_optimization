{
 "cells": [
  {
   "attachments": {},
   "cell_type": "markdown",
   "metadata": {},
   "source": [
    "##extra functionality for optimization"
   ]
  },
  {
   "cell_type": "code",
   "execution_count": null,
   "metadata": {
    "vscode": {
     "languageId": "plaintext"
    }
   },
   "outputs": [],
   "source": [
    "#add notr range manualy \n",
    "def add_note_range_column(songs_dict, expert_data):\n",
    "    note_ranges = [songs_dict.get(filename) for filename in expert_data['midi_filename']]\n",
    "    expert_data['note_range'] = note_ranges\n",
    "    pass\n",
    "import json\n",
    "#for adding note range\n",
    "# Load dictionary from JSON file\n",
    "with open('song_dict.json', 'r') as f:\n",
    "    song_dict = json.load(f)\n",
    "add_note_range_column(song_dict, expert_data)"
   ]
  },
  {
   "cell_type": "code",
   "execution_count": null,
   "metadata": {
    "vscode": {
     "languageId": "plaintext"
    }
   },
   "outputs": [],
   "source": [
    "def loss(sum_diff, length):\n",
    "        #start with avg diff, need to define loss\n",
    "        return sum_diff / length"
   ]
  },
  {
   "cell_type": "code",
   "execution_count": null,
   "metadata": {
    "vscode": {
     "languageId": "plaintext"
    }
   },
   "outputs": [],
   "source": [
    "def diff_function(prediction, expert):\n",
    "    #get two vectors containing orederd predictions and expert data practice modes\n",
    "    diff = 0\n",
    "    for i, pred in enumerate(prediction):\n",
    "        if pred != expert[i]:\n",
    "            diff+=1\n",
    "    return loss(diff, len(prediction))\n",
    "    pass  "
   ]
  },
  {
   "cell_type": "code",
   "execution_count": null,
   "metadata": {
    "vscode": {
     "languageId": "plaintext"
    }
   },
   "outputs": [],
   "source": [
    "def policy_diff(gauss_model, recorded_points, expert_practice_mode):\n",
    "         #calculate difference between the prediction of the gauss model and the expert advice.\n",
    "      r_p =  recorded_points[\"error_before_right_timing\", \"error_before_right_pitch\"]\n",
    "      #a question- the diff should be calculated binaricly(by prediction) or by the utility diffs?\n",
    "      policy_diff =diff_function(gauss_model.get_best_practice_mode(r_p),  expert_practice_mode)\n",
    "      return policy_diff\n",
    "      pass\n"
   ]
  },
  {
   "cell_type": "code",
   "execution_count": null,
   "metadata": {
    "vscode": {
     "languageId": "plaintext"
    }
   },
   "outputs": [],
   "source": [
    "def policy_diff_utility(gauss_model, point, expert_opt_policy):\n",
    "    \n",
    "      c=0#what is c?\n",
    "      policy_diff= compare_to_best_policy(gauss_model.get_policy(c),point[\"utility\"])\n",
    "      return policy_diff"
   ]
  },
  {
   "cell_type": "code",
   "execution_count": null,
   "metadata": {
    "vscode": {
     "languageId": "plaintext"
    }
   },
   "outputs": [],
   "source": [
    "def initialize_gp_generelize():\n",
    "    #generelized to any number of kernels, not sure if possible\n",
    "    gp_models = []\n",
    "    kernel_hyper_params = [{'lengthscale': 1.0}, {'lengthscale': 0.5}, {'lengthscale': 2.0}]\n",
    "    kernels = [GPy.kern.Matern52, GPy.kern.Matern32, GPy.kern.RBF]\n",
    "\n",
    "    for kernel, hyper_params in zip(kernels, kernel_hyper_params):\n",
    "        for param in hyper_params:\n",
    "            # initialize a new kernel with the given hyperparameters\n",
    "            kernel_instance = kernel(input_dim=1, **param)\n",
    "\n",
    "            # initialize a new Gaussian process model with the current kernel\n",
    "            gp = GaussianProcess(kernel=kernel_instance)\n",
    "\n",
    "            gp_models.append(gp)\n",
    "\n",
    "    return gp_models\n",
    "pass"
   ]
  },
  {
   "cell_type": "code",
   "execution_count": null,
   "metadata": {
    "vscode": {
     "languageId": "plaintext"
    }
   },
   "outputs": [],
   "source": [
    "def grid_search_opt(expert_data):\n",
    "\n",
    "    start_time = time.time()\n",
    "    #gets a utility collumn for expert data\n",
    "    expert_data[\"utility\"] = expert_data.apply(lambda row: error_diff_to_utility_for_opt(row[\"error_before_right_pitch\"],\n",
    "                                                                                row[\"error_after_right_pitch\"],\n",
    "                                                                                row[\"error_before_right_timing\"],\n",
    "                                                                                row[\"error_after_right_timing\"]),\n",
    "                                                axis=1)\n",
    "\n",
    "    #currently just right timing and right pitch\n",
    "    recorded_points = expert_data[[\"error_before_right_timing\", \"error_before_right_pitch\",\"practice_mode\", \"bpm\",\"utility\"]]\n",
    "    #initilizing the gp models with different hyperparameters\n",
    "    gauss_models = initilize_gp()\n",
    "    #calculating the policy diff for each gp, for each added data point\n",
    "    policy_diff = policy_diff_for_all_gauss_models(gauss_models, recorded_points)\n",
    "    #choose the optimal gp\n",
    "    best_gp = optimal_gp(gauss_models, policy_diff)\n",
    "\n",
    "    end_time = time.time()\n",
    "    time_elapsed = end_time - start_time\n",
    "    print(\"Time elapsed: {:.2f} seconds\".format(time_elapsed))\n",
    "    return best_gp\n",
    "    pass\n"
   ]
  },
  {
   "cell_type": "code",
   "execution_count": null,
   "metadata": {
    "vscode": {
     "languageId": "plaintext"
    }
   },
   "outputs": [],
   "source": [
    "def initilize_gp():\n",
    "        gp_models = []\n",
    "        variance = [0.2]\n",
    "        lengthscale = [1]\n",
    "        alpha_list = [0.1]\n",
    "        #RBF kernel\n",
    "        for v in variance:\n",
    "            for l in lengthscale:\n",
    "                #for each kernel, we initialize a gp model with different hyperparameters\n",
    "                #initial a gp instance\n",
    "                gp = GaussianProcess()\n",
    "                kernel = GPy.kern.RBF(input_dim=gp.space.model_dimensionality, \n",
    "                                variance=v, \n",
    "                                lengthscale=l)\n",
    "                #we use the update_model_with_kernel function to create the new model with the new kernel\n",
    "                gp.update_model_with_kernel(kernel)\n",
    "                gp_models.append(gp)\n",
    "        #MATERN52 kernel\n",
    "        for v in variance:\n",
    "            for l in lengthscale:\n",
    "                #for each kernel, we initialize a gp model with different hyperparameters\n",
    "                #initial a gp instance\n",
    "                gp = GaussianProcess()\n",
    "                kernel = GPy.kern.Matern52(input_dim=gp.space.model_dimensionality, \n",
    "                              variance=v, \n",
    "                              lengthscale=l)\n",
    "                #we use the update_model_with_kernel function to create the new model with the new kernel\n",
    "                gp.update_model_with_kernel(kernel)\n",
    "                gp_models.append(gp)\n",
    "        #Rational Quadratic kernel\n",
    "        for v in variance:\n",
    "            for l in lengthscale:\n",
    "                for alpha in alpha_list:\n",
    "                    # initialize a gp instance\n",
    "                    gp = GaussianProcess()\n",
    "                    kernel = GPy.kern.RatQuad(input_dim=gp.space.model_dimensionality, \n",
    "                                            variance=v, \n",
    "                                            lengthscale=l, \n",
    "                                            power=alpha)\n",
    "                    #we use the update_model_with_kernel function to create the new model with the new kernel\n",
    "                    gp.update_model_with_kernel(kernel)\n",
    "                    gp_models.append(gp)\n",
    "\n",
    "\n",
    "        #linear kernel\n",
    "        for v in variance:\n",
    "            for l in lengthscale:\n",
    "        # initialize a gp instance\n",
    "                gp = GaussianProcess()\n",
    "                kernel = GPy.kern.Linear(input_dim=gp.space.model_dimensionality, \n",
    "                                        variances=np.ones(gp.space.model_dimensionality)*v, \n",
    "                                        ARD=True, # set to True for Automatic Relevance Determination\n",
    "                                        )\n",
    "                kernel.lengthscale = np.ones(gp.space.model_dimensionality)*l\n",
    "                #we use the update_model_with_kernel function to create the new model with the new kernel\n",
    "                gp.update_model_with_kernel(kernel)\n",
    "                gp_models.append(gp)\n",
    "\n",
    "\n",
    "\n",
    "        return gp_models"
   ]
  },
  {
   "cell_type": "code",
   "execution_count": null,
   "metadata": {
    "vscode": {
     "languageId": "plaintext"
    }
   },
   "outputs": [],
   "source": [
    "def policy_diff_for_all_gauss_models(gauss_models, recorded_points):\n",
    "    policy_diff = []\n",
    "    #for each gp, we calculate the policy diff for each added data point\n",
    "    for i, gauss_model in enumerate(gauss_models):\n",
    "        policy_diff.append(policy_diff_for_single_gp(gauss_model, recorded_points))\n",
    "    #we retrun an array of arrays- array contains the policy diff for a single gp, for each added data point\n",
    "    return policy_diff"
   ]
  }
 ],
 "metadata": {
  "language_info": {
   "name": "python"
  },
  "orig_nbformat": 4
 },
 "nbformat": 4,
 "nbformat_minor": 2
}
